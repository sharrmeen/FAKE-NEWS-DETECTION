{
 "cells": [
  {
   "cell_type": "markdown",
   "metadata": {
    "colab_type": "text",
    "id": "oo6CyZV2aaun"
   },
   "source": [
    "### Dataset & EDA"
   ]
  },
  {
   "cell_type": "code",
   "execution_count": 1,
   "metadata": {
    "colab": {},
    "colab_type": "code",
    "executionInfo": {
     "elapsed": 732,
     "status": "ok",
     "timestamp": 1595411469849,
     "user": {
      "displayName": "Keep Music Weird",
      "photoUrl": "https://lh3.googleusercontent.com/a-/AOh14Gi9IyYwcNDdJY9RrMvpMOuSI7FIspu0Dy8OyRZaVg=s64",
      "userId": "00063312648037822198"
     },
     "user_tz": -60
    },
    "id": "5HSzbQT3aaup"
   },
   "outputs": [],
   "source": [
    "import pandas as pd"
   ]
  },
  {
   "cell_type": "code",
   "execution_count": 2,
   "metadata": {
    "colab": {},
    "colab_type": "code",
    "executionInfo": {
     "elapsed": 1328,
     "status": "ok",
     "timestamp": 1595411474416,
     "user": {
      "displayName": "Keep Music Weird",
      "photoUrl": "https://lh3.googleusercontent.com/a-/AOh14Gi9IyYwcNDdJY9RrMvpMOuSI7FIspu0Dy8OyRZaVg=s64",
      "userId": "00063312648037822198"
     },
     "user_tz": -60
    },
    "id": "y4hg8AJRaaux"
   },
   "outputs": [],
   "source": [
    "true = pd.read_csv('C:\\\\Users\\\\owais\\\\Downloads\\\\TRUEIFND.csv')"
   ]
  },
  {
   "cell_type": "code",
   "execution_count": 3,
   "metadata": {
    "colab": {
     "base_uri": "https://localhost:8080/",
     "height": 142
    },
    "colab_type": "code",
    "executionInfo": {
     "elapsed": 764,
     "status": "ok",
     "timestamp": 1595411477527,
     "user": {
      "displayName": "Keep Music Weird",
      "photoUrl": "https://lh3.googleusercontent.com/a-/AOh14Gi9IyYwcNDdJY9RrMvpMOuSI7FIspu0Dy8OyRZaVg=s64",
      "userId": "00063312648037822198"
     },
     "user_tz": -60
    },
    "id": "AyzhLJ2Paau2",
    "outputId": "caf7eec5-7cf2-45ef-baf0-4c7617c48761"
   },
   "outputs": [
    {
     "data": {
      "text/html": [
       "<div>\n",
       "<style scoped>\n",
       "    .dataframe tbody tr th:only-of-type {\n",
       "        vertical-align: middle;\n",
       "    }\n",
       "\n",
       "    .dataframe tbody tr th {\n",
       "        vertical-align: top;\n",
       "    }\n",
       "\n",
       "    .dataframe thead th {\n",
       "        text-align: right;\n",
       "    }\n",
       "</style>\n",
       "<table border=\"1\" class=\"dataframe\">\n",
       "  <thead>\n",
       "    <tr style=\"text-align: right;\">\n",
       "      <th></th>\n",
       "      <th>id</th>\n",
       "      <th>Statement</th>\n",
       "      <th>Label</th>\n",
       "    </tr>\n",
       "  </thead>\n",
       "  <tbody>\n",
       "    <tr>\n",
       "      <th>0</th>\n",
       "      <td>2</td>\n",
       "      <td>WHO praises India's Aarogya Setu app, says it ...</td>\n",
       "      <td>True</td>\n",
       "    </tr>\n",
       "    <tr>\n",
       "      <th>1</th>\n",
       "      <td>3</td>\n",
       "      <td>In Delhi, Deputy US Secretary of State Stephen...</td>\n",
       "      <td>True</td>\n",
       "    </tr>\n",
       "    <tr>\n",
       "      <th>2</th>\n",
       "      <td>4</td>\n",
       "      <td>LAC tensions: China's strategy behind delibera...</td>\n",
       "      <td>True</td>\n",
       "    </tr>\n",
       "  </tbody>\n",
       "</table>\n",
       "</div>"
      ],
      "text/plain": [
       "   id                                          Statement  Label\n",
       "0   2  WHO praises India's Aarogya Setu app, says it ...   True\n",
       "1   3  In Delhi, Deputy US Secretary of State Stephen...   True\n",
       "2   4  LAC tensions: China's strategy behind delibera...   True"
      ]
     },
     "execution_count": 3,
     "metadata": {},
     "output_type": "execute_result"
    }
   ],
   "source": [
    "true.head(3)"
   ]
  },
  {
   "cell_type": "code",
   "execution_count": 6,
   "metadata": {
    "colab": {},
    "colab_type": "code",
    "executionInfo": {
     "elapsed": 1134,
     "status": "ok",
     "timestamp": 1595411485907,
     "user": {
      "displayName": "Keep Music Weird",
      "photoUrl": "https://lh3.googleusercontent.com/a-/AOh14Gi9IyYwcNDdJY9RrMvpMOuSI7FIspu0Dy8OyRZaVg=s64",
      "userId": "00063312648037822198"
     },
     "user_tz": -60
    },
    "id": "2IUF4xFsaau-"
   },
   "outputs": [],
   "source": [
    "fake = pd.read_csv('C:\\\\Users\\\\owais\\\\Downloads\\\\FAKEIFND.csv')"
   ]
  },
  {
   "cell_type": "code",
   "execution_count": 7,
   "metadata": {
    "colab": {
     "base_uri": "https://localhost:8080/",
     "height": 142
    },
    "colab_type": "code",
    "executionInfo": {
     "elapsed": 791,
     "status": "ok",
     "timestamp": 1595411489446,
     "user": {
      "displayName": "Keep Music Weird",
      "photoUrl": "https://lh3.googleusercontent.com/a-/AOh14Gi9IyYwcNDdJY9RrMvpMOuSI7FIspu0Dy8OyRZaVg=s64",
      "userId": "00063312648037822198"
     },
     "user_tz": -60
    },
    "id": "djhflIYvc9Fz",
    "outputId": "727bb2f8-a7c5-46cd-b767-8fc8a9eb875b"
   },
   "outputs": [
    {
     "data": {
      "text/html": [
       "<div>\n",
       "<style scoped>\n",
       "    .dataframe tbody tr th:only-of-type {\n",
       "        vertical-align: middle;\n",
       "    }\n",
       "\n",
       "    .dataframe tbody tr th {\n",
       "        vertical-align: top;\n",
       "    }\n",
       "\n",
       "    .dataframe thead th {\n",
       "        text-align: right;\n",
       "    }\n",
       "</style>\n",
       "<table border=\"1\" class=\"dataframe\">\n",
       "  <thead>\n",
       "    <tr style=\"text-align: right;\">\n",
       "      <th></th>\n",
       "      <th>id</th>\n",
       "      <th>Statement</th>\n",
       "      <th>Label</th>\n",
       "    </tr>\n",
       "  </thead>\n",
       "  <tbody>\n",
       "    <tr>\n",
       "      <th>0</th>\n",
       "      <td>2</td>\n",
       "      <td>Fact Check: 1938 video of BKS Iyengar shared a...</td>\n",
       "      <td>Fake</td>\n",
       "    </tr>\n",
       "    <tr>\n",
       "      <th>1</th>\n",
       "      <td>3</td>\n",
       "      <td>Fact Check: Conspiracy theory claims Sushant w...</td>\n",
       "      <td>Fake</td>\n",
       "    </tr>\n",
       "    <tr>\n",
       "      <th>2</th>\n",
       "      <td>4</td>\n",
       "      <td>Fact Check: Gujarat’s Rani ki Vav shared as pa...</td>\n",
       "      <td>Fake</td>\n",
       "    </tr>\n",
       "  </tbody>\n",
       "</table>\n",
       "</div>"
      ],
      "text/plain": [
       "   id                                          Statement Label\n",
       "0   2  Fact Check: 1938 video of BKS Iyengar shared a...  Fake\n",
       "1   3  Fact Check: Conspiracy theory claims Sushant w...  Fake\n",
       "2   4  Fact Check: Gujarat’s Rani ki Vav shared as pa...  Fake"
      ]
     },
     "execution_count": 7,
     "metadata": {},
     "output_type": "execute_result"
    }
   ],
   "source": [
    "fake.head(3)"
   ]
  },
  {
   "cell_type": "code",
   "execution_count": 8,
   "metadata": {
    "colab": {
     "base_uri": "https://localhost:8080/",
     "height": 34
    },
    "colab_type": "code",
    "executionInfo": {
     "elapsed": 763,
     "status": "ok",
     "timestamp": 1595411494587,
     "user": {
      "displayName": "Keep Music Weird",
      "photoUrl": "https://lh3.googleusercontent.com/a-/AOh14Gi9IyYwcNDdJY9RrMvpMOuSI7FIspu0Dy8OyRZaVg=s64",
      "userId": "00063312648037822198"
     },
     "user_tz": -60
    },
    "id": "wMwslxEgaavE",
    "outputId": "e8c64101-91b8-4e2d-97d3-c9221918d997"
   },
   "outputs": [
    {
     "data": {
      "text/plain": [
       "(37800, 4)"
      ]
     },
     "execution_count": 8,
     "metadata": {},
     "output_type": "execute_result"
    }
   ],
   "source": [
    "true.shape"
   ]
  },
  {
   "cell_type": "code",
   "execution_count": 9,
   "metadata": {
    "colab": {
     "base_uri": "https://localhost:8080/",
     "height": 34
    },
    "colab_type": "code",
    "executionInfo": {
     "elapsed": 977,
     "status": "ok",
     "timestamp": 1595411497866,
     "user": {
      "displayName": "Keep Music Weird",
      "photoUrl": "https://lh3.googleusercontent.com/a-/AOh14Gi9IyYwcNDdJY9RrMvpMOuSI7FIspu0Dy8OyRZaVg=s64",
      "userId": "00063312648037822198"
     },
     "user_tz": -60
    },
    "id": "-zccgSIgdNFb",
    "outputId": "1f0793d9-589e-4d2d-e626-3b255114e7dd"
   },
   "outputs": [
    {
     "data": {
      "text/plain": [
       "(18914, 3)"
      ]
     },
     "execution_count": 9,
     "metadata": {},
     "output_type": "execute_result"
    }
   ],
   "source": [
    "fake.shape"
   ]
  },
  {
   "cell_type": "code",
   "execution_count": 10,
   "metadata": {
    "colab": {},
    "colab_type": "code",
    "executionInfo": {
     "elapsed": 752,
     "status": "ok",
     "timestamp": 1595411503717,
     "user": {
      "displayName": "Keep Music Weird",
      "photoUrl": "https://lh3.googleusercontent.com/a-/AOh14Gi9IyYwcNDdJY9RrMvpMOuSI7FIspu0Dy8OyRZaVg=s64",
      "userId": "00063312648037822198"
     },
     "user_tz": -60
    },
    "id": "mUN3MznndUyk"
   },
   "outputs": [],
   "source": [
    "true['label'] = 1"
   ]
  },
  {
   "cell_type": "code",
   "execution_count": 11,
   "metadata": {
    "colab": {
     "base_uri": "https://localhost:8080/",
     "height": 142
    },
    "colab_type": "code",
    "executionInfo": {
     "elapsed": 1001,
     "status": "ok",
     "timestamp": 1595411508073,
     "user": {
      "displayName": "Keep Music Weird",
      "photoUrl": "https://lh3.googleusercontent.com/a-/AOh14Gi9IyYwcNDdJY9RrMvpMOuSI7FIspu0Dy8OyRZaVg=s64",
      "userId": "00063312648037822198"
     },
     "user_tz": -60
    },
    "id": "jYYojj0vdf9T",
    "outputId": "820afd05-3c26-40c9-c8f6-c12fcf582a6f"
   },
   "outputs": [
    {
     "data": {
      "text/html": [
       "<div>\n",
       "<style scoped>\n",
       "    .dataframe tbody tr th:only-of-type {\n",
       "        vertical-align: middle;\n",
       "    }\n",
       "\n",
       "    .dataframe tbody tr th {\n",
       "        vertical-align: top;\n",
       "    }\n",
       "\n",
       "    .dataframe thead th {\n",
       "        text-align: right;\n",
       "    }\n",
       "</style>\n",
       "<table border=\"1\" class=\"dataframe\">\n",
       "  <thead>\n",
       "    <tr style=\"text-align: right;\">\n",
       "      <th></th>\n",
       "      <th>id</th>\n",
       "      <th>Statement</th>\n",
       "      <th>Label</th>\n",
       "      <th>label</th>\n",
       "    </tr>\n",
       "  </thead>\n",
       "  <tbody>\n",
       "    <tr>\n",
       "      <th>0</th>\n",
       "      <td>2</td>\n",
       "      <td>WHO praises India's Aarogya Setu app, says it ...</td>\n",
       "      <td>True</td>\n",
       "      <td>1</td>\n",
       "    </tr>\n",
       "    <tr>\n",
       "      <th>1</th>\n",
       "      <td>3</td>\n",
       "      <td>In Delhi, Deputy US Secretary of State Stephen...</td>\n",
       "      <td>True</td>\n",
       "      <td>1</td>\n",
       "    </tr>\n",
       "    <tr>\n",
       "      <th>2</th>\n",
       "      <td>4</td>\n",
       "      <td>LAC tensions: China's strategy behind delibera...</td>\n",
       "      <td>True</td>\n",
       "      <td>1</td>\n",
       "    </tr>\n",
       "  </tbody>\n",
       "</table>\n",
       "</div>"
      ],
      "text/plain": [
       "   id                                          Statement  Label  label\n",
       "0   2  WHO praises India's Aarogya Setu app, says it ...   True      1\n",
       "1   3  In Delhi, Deputy US Secretary of State Stephen...   True      1\n",
       "2   4  LAC tensions: China's strategy behind delibera...   True      1"
      ]
     },
     "execution_count": 11,
     "metadata": {},
     "output_type": "execute_result"
    }
   ],
   "source": [
    "true.head(3)"
   ]
  },
  {
   "cell_type": "code",
   "execution_count": 12,
   "metadata": {
    "colab": {},
    "colab_type": "code",
    "executionInfo": {
     "elapsed": 759,
     "status": "ok",
     "timestamp": 1595411513610,
     "user": {
      "displayName": "Keep Music Weird",
      "photoUrl": "https://lh3.googleusercontent.com/a-/AOh14Gi9IyYwcNDdJY9RrMvpMOuSI7FIspu0Dy8OyRZaVg=s64",
      "userId": "00063312648037822198"
     },
     "user_tz": -60
    },
    "id": "kgHXlR0XdiPq"
   },
   "outputs": [],
   "source": [
    "fake['label'] = 0"
   ]
  },
  {
   "cell_type": "code",
   "execution_count": 13,
   "metadata": {
    "colab": {
     "base_uri": "https://localhost:8080/",
     "height": 142
    },
    "colab_type": "code",
    "executionInfo": {
     "elapsed": 793,
     "status": "ok",
     "timestamp": 1595411526441,
     "user": {
      "displayName": "Keep Music Weird",
      "photoUrl": "https://lh3.googleusercontent.com/a-/AOh14Gi9IyYwcNDdJY9RrMvpMOuSI7FIspu0Dy8OyRZaVg=s64",
      "userId": "00063312648037822198"
     },
     "user_tz": -60
    },
    "id": "UE6Px8jh79WT",
    "outputId": "e727e160-af4c-4cc8-8781-ca1107adaa05"
   },
   "outputs": [
    {
     "data": {
      "text/html": [
       "<div>\n",
       "<style scoped>\n",
       "    .dataframe tbody tr th:only-of-type {\n",
       "        vertical-align: middle;\n",
       "    }\n",
       "\n",
       "    .dataframe tbody tr th {\n",
       "        vertical-align: top;\n",
       "    }\n",
       "\n",
       "    .dataframe thead th {\n",
       "        text-align: right;\n",
       "    }\n",
       "</style>\n",
       "<table border=\"1\" class=\"dataframe\">\n",
       "  <thead>\n",
       "    <tr style=\"text-align: right;\">\n",
       "      <th></th>\n",
       "      <th>id</th>\n",
       "      <th>Statement</th>\n",
       "      <th>Label</th>\n",
       "      <th>label</th>\n",
       "    </tr>\n",
       "  </thead>\n",
       "  <tbody>\n",
       "    <tr>\n",
       "      <th>0</th>\n",
       "      <td>2</td>\n",
       "      <td>Fact Check: 1938 video of BKS Iyengar shared a...</td>\n",
       "      <td>Fake</td>\n",
       "      <td>0</td>\n",
       "    </tr>\n",
       "    <tr>\n",
       "      <th>1</th>\n",
       "      <td>3</td>\n",
       "      <td>Fact Check: Conspiracy theory claims Sushant w...</td>\n",
       "      <td>Fake</td>\n",
       "      <td>0</td>\n",
       "    </tr>\n",
       "    <tr>\n",
       "      <th>2</th>\n",
       "      <td>4</td>\n",
       "      <td>Fact Check: Gujarat’s Rani ki Vav shared as pa...</td>\n",
       "      <td>Fake</td>\n",
       "      <td>0</td>\n",
       "    </tr>\n",
       "  </tbody>\n",
       "</table>\n",
       "</div>"
      ],
      "text/plain": [
       "   id                                          Statement Label  label\n",
       "0   2  Fact Check: 1938 video of BKS Iyengar shared a...  Fake      0\n",
       "1   3  Fact Check: Conspiracy theory claims Sushant w...  Fake      0\n",
       "2   4  Fact Check: Gujarat’s Rani ki Vav shared as pa...  Fake      0"
      ]
     },
     "execution_count": 13,
     "metadata": {},
     "output_type": "execute_result"
    }
   ],
   "source": [
    "fake.head(3)"
   ]
  },
  {
   "cell_type": "code",
   "execution_count": 14,
   "metadata": {
    "colab": {},
    "colab_type": "code",
    "executionInfo": {
     "elapsed": 819,
     "status": "ok",
     "timestamp": 1595411531197,
     "user": {
      "displayName": "Keep Music Weird",
      "photoUrl": "https://lh3.googleusercontent.com/a-/AOh14Gi9IyYwcNDdJY9RrMvpMOuSI7FIspu0Dy8OyRZaVg=s64",
      "userId": "00063312648037822198"
     },
     "user_tz": -60
    },
    "id": "OuiYyCWfdrv5"
   },
   "outputs": [],
   "source": [
    "frames = [true.loc[0:5000][:], fake.loc[0:5000][:]]\n",
    "df = pd.concat(frames)"
   ]
  },
  {
   "cell_type": "code",
   "execution_count": 15,
   "metadata": {
    "colab": {
     "base_uri": "https://localhost:8080/",
     "height": 34
    },
    "colab_type": "code",
    "executionInfo": {
     "elapsed": 797,
     "status": "ok",
     "timestamp": 1595411535238,
     "user": {
      "displayName": "Keep Music Weird",
      "photoUrl": "https://lh3.googleusercontent.com/a-/AOh14Gi9IyYwcNDdJY9RrMvpMOuSI7FIspu0Dy8OyRZaVg=s64",
      "userId": "00063312648037822198"
     },
     "user_tz": -60
    },
    "id": "tcs-WPDHe52o",
    "outputId": "6630597a-5968-45ad-8934-27bf239177eb"
   },
   "outputs": [
    {
     "data": {
      "text/plain": [
       "(10002, 4)"
      ]
     },
     "execution_count": 15,
     "metadata": {},
     "output_type": "execute_result"
    }
   ],
   "source": [
    "df.shape"
   ]
  },
  {
   "cell_type": "code",
   "execution_count": 16,
   "metadata": {
    "colab": {},
    "colab_type": "code",
    "executionInfo": {
     "elapsed": 759,
     "status": "ok",
     "timestamp": 1595411550604,
     "user": {
      "displayName": "Keep Music Weird",
      "photoUrl": "https://lh3.googleusercontent.com/a-/AOh14Gi9IyYwcNDdJY9RrMvpMOuSI7FIspu0Dy8OyRZaVg=s64",
      "userId": "00063312648037822198"
     },
     "user_tz": -60
    },
    "id": "Kq_-4oUngF9H"
   },
   "outputs": [],
   "source": [
    "df = df.sample(frac=1).reset_index(drop=True)"
   ]
  },
  {
   "cell_type": "code",
   "execution_count": 17,
   "metadata": {
    "colab": {
     "base_uri": "https://localhost:8080/",
     "height": 204
    },
    "colab_type": "code",
    "executionInfo": {
     "elapsed": 779,
     "status": "ok",
     "timestamp": 1595411553982,
     "user": {
      "displayName": "Keep Music Weird",
      "photoUrl": "https://lh3.googleusercontent.com/a-/AOh14Gi9IyYwcNDdJY9RrMvpMOuSI7FIspu0Dy8OyRZaVg=s64",
      "userId": "00063312648037822198"
     },
     "user_tz": -60
    },
    "id": "BH-9Fr4FgIF9",
    "outputId": "c1962100-30da-4d46-f136-828ff579597f"
   },
   "outputs": [
    {
     "data": {
      "text/html": [
       "<div>\n",
       "<style scoped>\n",
       "    .dataframe tbody tr th:only-of-type {\n",
       "        vertical-align: middle;\n",
       "    }\n",
       "\n",
       "    .dataframe tbody tr th {\n",
       "        vertical-align: top;\n",
       "    }\n",
       "\n",
       "    .dataframe thead th {\n",
       "        text-align: right;\n",
       "    }\n",
       "</style>\n",
       "<table border=\"1\" class=\"dataframe\">\n",
       "  <thead>\n",
       "    <tr style=\"text-align: right;\">\n",
       "      <th></th>\n",
       "      <th>id</th>\n",
       "      <th>Statement</th>\n",
       "      <th>Label</th>\n",
       "      <th>label</th>\n",
       "    </tr>\n",
       "  </thead>\n",
       "  <tbody>\n",
       "    <tr>\n",
       "      <th>0</th>\n",
       "      <td>466</td>\n",
       "      <td>Fact Check: Are the bus drivers in Japan on st...</td>\n",
       "      <td>Fake</td>\n",
       "      <td>0</td>\n",
       "    </tr>\n",
       "    <tr>\n",
       "      <th>1</th>\n",
       "      <td>4947</td>\n",
       "      <td>Old video of mock drill shared as protest in A...</td>\n",
       "      <td>Fake</td>\n",
       "      <td>0</td>\n",
       "    </tr>\n",
       "    <tr>\n",
       "      <th>2</th>\n",
       "      <td>63</td>\n",
       "      <td>Fact File: Does military aid come free in floo...</td>\n",
       "      <td>Fake</td>\n",
       "      <td>0</td>\n",
       "    </tr>\n",
       "    <tr>\n",
       "      <th>3</th>\n",
       "      <td>1516</td>\n",
       "      <td>Achhe Din For Pluto? Kejriwal Wants Full Plane...</td>\n",
       "      <td>Fake</td>\n",
       "      <td>0</td>\n",
       "    </tr>\n",
       "    <tr>\n",
       "      <th>4</th>\n",
       "      <td>157</td>\n",
       "      <td>Who stands to benefit from Simultaneous Electi...</td>\n",
       "      <td>True</td>\n",
       "      <td>1</td>\n",
       "    </tr>\n",
       "  </tbody>\n",
       "</table>\n",
       "</div>"
      ],
      "text/plain": [
       "     id                                          Statement Label  label\n",
       "0   466  Fact Check: Are the bus drivers in Japan on st...  Fake      0\n",
       "1  4947  Old video of mock drill shared as protest in A...  Fake      0\n",
       "2    63  Fact File: Does military aid come free in floo...  Fake      0\n",
       "3  1516  Achhe Din For Pluto? Kejriwal Wants Full Plane...  Fake      0\n",
       "4   157  Who stands to benefit from Simultaneous Electi...  True      1"
      ]
     },
     "execution_count": 17,
     "metadata": {},
     "output_type": "execute_result"
    }
   ],
   "source": [
    "df.head()"
   ]
  },
  {
   "cell_type": "code",
   "execution_count": 18,
   "metadata": {
    "colab": {},
    "colab_type": "code",
    "executionInfo": {
     "elapsed": 753,
     "status": "ok",
     "timestamp": 1595411601435,
     "user": {
      "displayName": "Keep Music Weird",
      "photoUrl": "https://lh3.googleusercontent.com/a-/AOh14Gi9IyYwcNDdJY9RrMvpMOuSI7FIspu0Dy8OyRZaVg=s64",
      "userId": "00063312648037822198"
     },
     "user_tz": -60
    },
    "id": "Pxi8bk-uaavJ"
   },
   "outputs": [],
   "source": [
    "X = df.drop('label', axis=1)"
   ]
  },
  {
   "cell_type": "code",
   "execution_count": 19,
   "metadata": {
    "colab": {},
    "colab_type": "code",
    "executionInfo": {
     "elapsed": 763,
     "status": "ok",
     "timestamp": 1595411604676,
     "user": {
      "displayName": "Keep Music Weird",
      "photoUrl": "https://lh3.googleusercontent.com/a-/AOh14Gi9IyYwcNDdJY9RrMvpMOuSI7FIspu0Dy8OyRZaVg=s64",
      "userId": "00063312648037822198"
     },
     "user_tz": -60
    },
    "id": "d_WeBCGiaavO"
   },
   "outputs": [],
   "source": [
    "y = df['label']"
   ]
  },
  {
   "cell_type": "code",
   "execution_count": 20,
   "metadata": {
    "colab": {},
    "colab_type": "code",
    "executionInfo": {
     "elapsed": 849,
     "status": "ok",
     "timestamp": 1595411614578,
     "user": {
      "displayName": "Keep Music Weird",
      "photoUrl": "https://lh3.googleusercontent.com/a-/AOh14Gi9IyYwcNDdJY9RrMvpMOuSI7FIspu0Dy8OyRZaVg=s64",
      "userId": "00063312648037822198"
     },
     "user_tz": -60
    },
    "id": "9L1JIPYlaavU"
   },
   "outputs": [],
   "source": [
    "df = df.dropna()"
   ]
  },
  {
   "cell_type": "code",
   "execution_count": 21,
   "metadata": {
    "colab": {},
    "colab_type": "code",
    "executionInfo": {
     "elapsed": 947,
     "status": "ok",
     "timestamp": 1595411633597,
     "user": {
      "displayName": "Keep Music Weird",
      "photoUrl": "https://lh3.googleusercontent.com/a-/AOh14Gi9IyYwcNDdJY9RrMvpMOuSI7FIspu0Dy8OyRZaVg=s64",
      "userId": "00063312648037822198"
     },
     "user_tz": -60
    },
    "id": "ND_3F6KMaavZ"
   },
   "outputs": [],
   "source": [
    "messages = df.copy()"
   ]
  },
  {
   "cell_type": "code",
   "execution_count": 22,
   "metadata": {
    "colab": {},
    "colab_type": "code",
    "executionInfo": {
     "elapsed": 799,
     "status": "ok",
     "timestamp": 1595411638982,
     "user": {
      "displayName": "Keep Music Weird",
      "photoUrl": "https://lh3.googleusercontent.com/a-/AOh14Gi9IyYwcNDdJY9RrMvpMOuSI7FIspu0Dy8OyRZaVg=s64",
      "userId": "00063312648037822198"
     },
     "user_tz": -60
    },
    "id": "Tpep17qWaavg"
   },
   "outputs": [],
   "source": [
    "messages.reset_index(inplace=True)"
   ]
  },
  {
   "cell_type": "code",
   "execution_count": 23,
   "metadata": {
    "colab": {
     "base_uri": "https://localhost:8080/",
     "height": 204
    },
    "colab_type": "code",
    "executionInfo": {
     "elapsed": 799,
     "status": "ok",
     "timestamp": 1595411659735,
     "user": {
      "displayName": "Keep Music Weird",
      "photoUrl": "https://lh3.googleusercontent.com/a-/AOh14Gi9IyYwcNDdJY9RrMvpMOuSI7FIspu0Dy8OyRZaVg=s64",
      "userId": "00063312648037822198"
     },
     "user_tz": -60
    },
    "id": "zSx6a8yTaavk",
    "outputId": "cad686e4-e143-41df-dcf5-2ecc0364eca6"
   },
   "outputs": [
    {
     "data": {
      "text/html": [
       "<div>\n",
       "<style scoped>\n",
       "    .dataframe tbody tr th:only-of-type {\n",
       "        vertical-align: middle;\n",
       "    }\n",
       "\n",
       "    .dataframe tbody tr th {\n",
       "        vertical-align: top;\n",
       "    }\n",
       "\n",
       "    .dataframe thead th {\n",
       "        text-align: right;\n",
       "    }\n",
       "</style>\n",
       "<table border=\"1\" class=\"dataframe\">\n",
       "  <thead>\n",
       "    <tr style=\"text-align: right;\">\n",
       "      <th></th>\n",
       "      <th>index</th>\n",
       "      <th>id</th>\n",
       "      <th>Statement</th>\n",
       "      <th>Label</th>\n",
       "      <th>label</th>\n",
       "    </tr>\n",
       "  </thead>\n",
       "  <tbody>\n",
       "    <tr>\n",
       "      <th>0</th>\n",
       "      <td>0</td>\n",
       "      <td>466</td>\n",
       "      <td>Fact Check: Are the bus drivers in Japan on st...</td>\n",
       "      <td>Fake</td>\n",
       "      <td>0</td>\n",
       "    </tr>\n",
       "    <tr>\n",
       "      <th>1</th>\n",
       "      <td>1</td>\n",
       "      <td>4947</td>\n",
       "      <td>Old video of mock drill shared as protest in A...</td>\n",
       "      <td>Fake</td>\n",
       "      <td>0</td>\n",
       "    </tr>\n",
       "    <tr>\n",
       "      <th>2</th>\n",
       "      <td>2</td>\n",
       "      <td>63</td>\n",
       "      <td>Fact File: Does military aid come free in floo...</td>\n",
       "      <td>Fake</td>\n",
       "      <td>0</td>\n",
       "    </tr>\n",
       "    <tr>\n",
       "      <th>3</th>\n",
       "      <td>3</td>\n",
       "      <td>1516</td>\n",
       "      <td>Achhe Din For Pluto? Kejriwal Wants Full Plane...</td>\n",
       "      <td>Fake</td>\n",
       "      <td>0</td>\n",
       "    </tr>\n",
       "    <tr>\n",
       "      <th>4</th>\n",
       "      <td>4</td>\n",
       "      <td>157</td>\n",
       "      <td>Who stands to benefit from Simultaneous Electi...</td>\n",
       "      <td>True</td>\n",
       "      <td>1</td>\n",
       "    </tr>\n",
       "  </tbody>\n",
       "</table>\n",
       "</div>"
      ],
      "text/plain": [
       "   index    id                                          Statement Label  label\n",
       "0      0   466  Fact Check: Are the bus drivers in Japan on st...  Fake      0\n",
       "1      1  4947  Old video of mock drill shared as protest in A...  Fake      0\n",
       "2      2    63  Fact File: Does military aid come free in floo...  Fake      0\n",
       "3      3  1516  Achhe Din For Pluto? Kejriwal Wants Full Plane...  Fake      0\n",
       "4      4   157  Who stands to benefit from Simultaneous Electi...  True      1"
      ]
     },
     "execution_count": 23,
     "metadata": {},
     "output_type": "execute_result"
    }
   ],
   "source": [
    "messages.head()"
   ]
  },
  {
   "cell_type": "code",
   "execution_count": 25,
   "metadata": {
    "colab": {
     "base_uri": "https://localhost:8080/",
     "height": 35
    },
    "colab_type": "code",
    "executionInfo": {
     "elapsed": 927,
     "status": "ok",
     "timestamp": 1595411669961,
     "user": {
      "displayName": "Keep Music Weird",
      "photoUrl": "https://lh3.googleusercontent.com/a-/AOh14Gi9IyYwcNDdJY9RrMvpMOuSI7FIspu0Dy8OyRZaVg=s64",
      "userId": "00063312648037822198"
     },
     "user_tz": -60
    },
    "id": "qaSRuMGMaavp",
    "outputId": "313e9e3a-d74a-43a1-b7d8-e1975884fc28"
   },
   "outputs": [
    {
     "data": {
      "text/plain": [
       "'Fact File: Does military aid come free in flood-hit states?'"
      ]
     },
     "execution_count": 25,
     "metadata": {},
     "output_type": "execute_result"
    }
   ],
   "source": [
    "messages['Statement'][2]"
   ]
  },
  {
   "cell_type": "code",
   "execution_count": 26,
   "metadata": {
    "colab": {
     "base_uri": "https://localhost:8080/",
     "height": 137
    },
    "colab_type": "code",
    "executionInfo": {
     "elapsed": 818,
     "status": "ok",
     "timestamp": 1595411674117,
     "user": {
      "displayName": "Keep Music Weird",
      "photoUrl": "https://lh3.googleusercontent.com/a-/AOh14Gi9IyYwcNDdJY9RrMvpMOuSI7FIspu0Dy8OyRZaVg=s64",
      "userId": "00063312648037822198"
     },
     "user_tz": -60
    },
    "id": "0Uv90s91aavu",
    "outputId": "b57593da-1909-44fc-d7e0-50a83fcc54dc"
   },
   "outputs": [
    {
     "data": {
      "text/plain": [
       "'Fact File: Does military aid come free in flood-hit states?'"
      ]
     },
     "execution_count": 26,
     "metadata": {},
     "output_type": "execute_result"
    }
   ],
   "source": [
    "messages['Statement'][2]"
   ]
  },
  {
   "cell_type": "markdown",
   "metadata": {
    "colab_type": "text",
    "id": "1cuZmsazaavy"
   },
   "source": [
    "### Preprocessing"
   ]
  },
  {
   "cell_type": "code",
   "execution_count": 27,
   "metadata": {
    "colab": {},
    "colab_type": "code",
    "executionInfo": {
     "elapsed": 1774,
     "status": "ok",
     "timestamp": 1595411691541,
     "user": {
      "displayName": "Keep Music Weird",
      "photoUrl": "https://lh3.googleusercontent.com/a-/AOh14Gi9IyYwcNDdJY9RrMvpMOuSI7FIspu0Dy8OyRZaVg=s64",
      "userId": "00063312648037822198"
     },
     "user_tz": -60
    },
    "id": "NxdHcIjCaavz"
   },
   "outputs": [],
   "source": [
    "from nltk.corpus import stopwords\n",
    "from nltk.stem.porter import PorterStemmer\n",
    "ps = PorterStemmer()"
   ]
  },
  {
   "cell_type": "code",
   "execution_count": 29,
   "metadata": {
    "colab": {
     "base_uri": "https://localhost:8080/",
     "height": 51
    },
    "colab_type": "code",
    "executionInfo": {
     "elapsed": 493677,
     "status": "ok",
     "timestamp": 1595412194609,
     "user": {
      "displayName": "Keep Music Weird",
      "photoUrl": "https://lh3.googleusercontent.com/a-/AOh14Gi9IyYwcNDdJY9RrMvpMOuSI7FIspu0Dy8OyRZaVg=s64",
      "userId": "00063312648037822198"
     },
     "user_tz": -60
    },
    "id": "nQG6jyOqaav3",
    "outputId": "5bb3b6f6-91f9-48fc-d675-dbe5436e5fd1"
   },
   "outputs": [
    {
     "name": "stderr",
     "output_type": "stream",
     "text": [
      "[nltk_data] Downloading package stopwords to\n",
      "[nltk_data]     C:\\Users\\owais\\AppData\\Roaming\\nltk_data...\n",
      "[nltk_data]   Package stopwords is already up-to-date!\n"
     ]
    }
   ],
   "source": [
    "import re\n",
    "import nltk\n",
    "nltk.download('stopwords')\n",
    "\n",
    "corpus = []\n",
    "for i in range(0, len(messages)):\n",
    "    review = re.sub('[^a-zA-Z]', ' ', messages['Statement'][i])\n",
    "    review = review.lower()\n",
    "    review = review.split()\n",
    "    \n",
    "    review = [ps.stem(word) for word in review if not word in stopwords.words('english')]\n",
    "    review = ' '.join(review)\n",
    "    corpus.append(review)"
   ]
  },
  {
   "cell_type": "code",
   "execution_count": 31,
   "metadata": {
    "colab": {
     "base_uri": "https://localhost:8080/",
     "height": 34
    },
    "colab_type": "code",
    "executionInfo": {
     "elapsed": 793,
     "status": "ok",
     "timestamp": 1595412216062,
     "user": {
      "displayName": "Keep Music Weird",
      "photoUrl": "https://lh3.googleusercontent.com/a-/AOh14Gi9IyYwcNDdJY9RrMvpMOuSI7FIspu0Dy8OyRZaVg=s64",
      "userId": "00063312648037822198"
     },
     "user_tz": -60
    },
    "id": "AF-UqGbbhFEw",
    "outputId": "d53c794d-2a32-47a8-9ef1-85906f9ea64e"
   },
   "outputs": [
    {
     "data": {
      "text/plain": [
       "10002"
      ]
     },
     "execution_count": 31,
     "metadata": {},
     "output_type": "execute_result"
    }
   ],
   "source": [
    "len(corpus)"
   ]
  },
  {
   "cell_type": "code",
   "execution_count": 32,
   "metadata": {
    "colab": {},
    "colab_type": "code",
    "executionInfo": {
     "elapsed": 894,
     "status": "ok",
     "timestamp": 1595412233928,
     "user": {
      "displayName": "Keep Music Weird",
      "photoUrl": "https://lh3.googleusercontent.com/a-/AOh14Gi9IyYwcNDdJY9RrMvpMOuSI7FIspu0Dy8OyRZaVg=s64",
      "userId": "00063312648037822198"
     },
     "user_tz": -60
    },
    "id": "1SeZ_i3Baav7"
   },
   "outputs": [],
   "source": [
    "## TFidf Vectorizer\n",
    "from sklearn.feature_extraction.text import TfidfVectorizer\n",
    "\n",
    "tfidf_v = TfidfVectorizer(max_features=5000, ngram_range=(1,3))"
   ]
  },
  {
   "cell_type": "code",
   "execution_count": 33,
   "metadata": {
    "colab": {
     "base_uri": "https://localhost:8080/",
     "height": 374
    },
    "colab_type": "code",
    "executionInfo": {
     "elapsed": 903,
     "status": "ok",
     "timestamp": 1595412237154,
     "user": {
      "displayName": "Keep Music Weird",
      "photoUrl": "https://lh3.googleusercontent.com/a-/AOh14Gi9IyYwcNDdJY9RrMvpMOuSI7FIspu0Dy8OyRZaVg=s64",
      "userId": "00063312648037822198"
     },
     "user_tz": -60
    },
    "id": "9lAsvIwEaav_",
    "outputId": "250f5328-b026-47a0-c511-302a40903bd2"
   },
   "outputs": [
    {
     "data": {
      "text/plain": [
       "{'analyzer': 'word',\n",
       " 'binary': False,\n",
       " 'decode_error': 'strict',\n",
       " 'dtype': numpy.float64,\n",
       " 'encoding': 'utf-8',\n",
       " 'input': 'content',\n",
       " 'lowercase': True,\n",
       " 'max_df': 1.0,\n",
       " 'max_features': 5000,\n",
       " 'min_df': 1,\n",
       " 'ngram_range': (1, 3),\n",
       " 'norm': 'l2',\n",
       " 'preprocessor': None,\n",
       " 'smooth_idf': True,\n",
       " 'stop_words': None,\n",
       " 'strip_accents': None,\n",
       " 'sublinear_tf': False,\n",
       " 'token_pattern': '(?u)\\\\b\\\\w\\\\w+\\\\b',\n",
       " 'tokenizer': None,\n",
       " 'use_idf': True,\n",
       " 'vocabulary': None}"
      ]
     },
     "execution_count": 33,
     "metadata": {},
     "output_type": "execute_result"
    }
   ],
   "source": [
    "tfidf_v.get_params()"
   ]
  },
  {
   "cell_type": "code",
   "execution_count": 34,
   "metadata": {
    "colab": {},
    "colab_type": "code",
    "executionInfo": {
     "elapsed": 25113,
     "status": "ok",
     "timestamp": 1595412277825,
     "user": {
      "displayName": "Keep Music Weird",
      "photoUrl": "https://lh3.googleusercontent.com/a-/AOh14Gi9IyYwcNDdJY9RrMvpMOuSI7FIspu0Dy8OyRZaVg=s64",
      "userId": "00063312648037822198"
     },
     "user_tz": -60
    },
    "id": "p8kKe91LaawM"
   },
   "outputs": [],
   "source": [
    "X = tfidf_v.fit_transform(corpus).toarray()\n",
    "y = messages['label']"
   ]
  },
  {
   "cell_type": "code",
   "execution_count": 35,
   "metadata": {
    "colab": {},
    "colab_type": "code",
    "executionInfo": {
     "elapsed": 834,
     "status": "ok",
     "timestamp": 1595412296543,
     "user": {
      "displayName": "Keep Music Weird",
      "photoUrl": "https://lh3.googleusercontent.com/a-/AOh14Gi9IyYwcNDdJY9RrMvpMOuSI7FIspu0Dy8OyRZaVg=s64",
      "userId": "00063312648037822198"
     },
     "user_tz": -60
    },
    "id": "wF760bkkaawQ"
   },
   "outputs": [],
   "source": [
    "## Divide the dataset into Train and Test\n",
    "from sklearn.model_selection import train_test_split\n",
    "\n",
    "X_train, X_test, y_train, y_test = train_test_split(X, y, test_size=0.2, random_state=0)"
   ]
  },
  {
   "cell_type": "code",
   "execution_count": 36,
   "metadata": {
    "colab": {
     "base_uri": "https://localhost:8080/",
     "height": 225
    },
    "colab_type": "code",
    "executionInfo": {
     "elapsed": 858,
     "status": "ok",
     "timestamp": 1595412301194,
     "user": {
      "displayName": "Keep Music Weird",
      "photoUrl": "https://lh3.googleusercontent.com/a-/AOh14Gi9IyYwcNDdJY9RrMvpMOuSI7FIspu0Dy8OyRZaVg=s64",
      "userId": "00063312648037822198"
     },
     "user_tz": -60
    },
    "id": "w4eJ0YPraawU",
    "outputId": "182d684b-35fc-4747-b552-95b7577dedaa"
   },
   "outputs": [
    {
     "data": {
      "text/html": [
       "<div>\n",
       "<style scoped>\n",
       "    .dataframe tbody tr th:only-of-type {\n",
       "        vertical-align: middle;\n",
       "    }\n",
       "\n",
       "    .dataframe tbody tr th {\n",
       "        vertical-align: top;\n",
       "    }\n",
       "\n",
       "    .dataframe thead th {\n",
       "        text-align: right;\n",
       "    }\n",
       "</style>\n",
       "<table border=\"1\" class=\"dataframe\">\n",
       "  <thead>\n",
       "    <tr style=\"text-align: right;\">\n",
       "      <th></th>\n",
       "      <th>aadhaar</th>\n",
       "      <th>aaditya</th>\n",
       "      <th>aaj</th>\n",
       "      <th>aaj tak</th>\n",
       "      <th>aamir</th>\n",
       "      <th>aamir khan</th>\n",
       "      <th>aap</th>\n",
       "      <th>aap leader</th>\n",
       "      <th>aap mla</th>\n",
       "      <th>aarogya</th>\n",
       "      <th>...</th>\n",
       "      <th>youtub</th>\n",
       "      <th>yr</th>\n",
       "      <th>yr old</th>\n",
       "      <th>ysrcp</th>\n",
       "      <th>zealand</th>\n",
       "      <th>zee</th>\n",
       "      <th>zee news</th>\n",
       "      <th>zero</th>\n",
       "      <th>zindabad</th>\n",
       "      <th>zone</th>\n",
       "    </tr>\n",
       "  </thead>\n",
       "  <tbody>\n",
       "    <tr>\n",
       "      <th>0</th>\n",
       "      <td>0.0</td>\n",
       "      <td>0.0</td>\n",
       "      <td>0.0</td>\n",
       "      <td>0.0</td>\n",
       "      <td>0.0</td>\n",
       "      <td>0.0</td>\n",
       "      <td>0.0</td>\n",
       "      <td>0.0</td>\n",
       "      <td>0.0</td>\n",
       "      <td>0.0</td>\n",
       "      <td>...</td>\n",
       "      <td>0.0</td>\n",
       "      <td>0.0</td>\n",
       "      <td>0.0</td>\n",
       "      <td>0.0</td>\n",
       "      <td>0.0</td>\n",
       "      <td>0.0</td>\n",
       "      <td>0.0</td>\n",
       "      <td>0.0</td>\n",
       "      <td>0.0</td>\n",
       "      <td>0.0</td>\n",
       "    </tr>\n",
       "    <tr>\n",
       "      <th>1</th>\n",
       "      <td>0.0</td>\n",
       "      <td>0.0</td>\n",
       "      <td>0.0</td>\n",
       "      <td>0.0</td>\n",
       "      <td>0.0</td>\n",
       "      <td>0.0</td>\n",
       "      <td>0.0</td>\n",
       "      <td>0.0</td>\n",
       "      <td>0.0</td>\n",
       "      <td>0.0</td>\n",
       "      <td>...</td>\n",
       "      <td>0.0</td>\n",
       "      <td>0.0</td>\n",
       "      <td>0.0</td>\n",
       "      <td>0.0</td>\n",
       "      <td>0.0</td>\n",
       "      <td>0.0</td>\n",
       "      <td>0.0</td>\n",
       "      <td>0.0</td>\n",
       "      <td>0.0</td>\n",
       "      <td>0.0</td>\n",
       "    </tr>\n",
       "    <tr>\n",
       "      <th>2</th>\n",
       "      <td>0.0</td>\n",
       "      <td>0.0</td>\n",
       "      <td>0.0</td>\n",
       "      <td>0.0</td>\n",
       "      <td>0.0</td>\n",
       "      <td>0.0</td>\n",
       "      <td>0.0</td>\n",
       "      <td>0.0</td>\n",
       "      <td>0.0</td>\n",
       "      <td>0.0</td>\n",
       "      <td>...</td>\n",
       "      <td>0.0</td>\n",
       "      <td>0.0</td>\n",
       "      <td>0.0</td>\n",
       "      <td>0.0</td>\n",
       "      <td>0.0</td>\n",
       "      <td>0.0</td>\n",
       "      <td>0.0</td>\n",
       "      <td>0.0</td>\n",
       "      <td>0.0</td>\n",
       "      <td>0.0</td>\n",
       "    </tr>\n",
       "  </tbody>\n",
       "</table>\n",
       "<p>3 rows × 5000 columns</p>\n",
       "</div>"
      ],
      "text/plain": [
       "   aadhaar  aaditya  aaj  aaj tak  aamir  aamir khan  aap  aap leader  \\\n",
       "0      0.0      0.0  0.0      0.0    0.0         0.0  0.0         0.0   \n",
       "1      0.0      0.0  0.0      0.0    0.0         0.0  0.0         0.0   \n",
       "2      0.0      0.0  0.0      0.0    0.0         0.0  0.0         0.0   \n",
       "\n",
       "   aap mla  aarogya  ...  youtub   yr  yr old  ysrcp  zealand  zee  zee news  \\\n",
       "0      0.0      0.0  ...     0.0  0.0     0.0    0.0      0.0  0.0       0.0   \n",
       "1      0.0      0.0  ...     0.0  0.0     0.0    0.0      0.0  0.0       0.0   \n",
       "2      0.0      0.0  ...     0.0  0.0     0.0    0.0      0.0  0.0       0.0   \n",
       "\n",
       "   zero  zindabad  zone  \n",
       "0   0.0       0.0   0.0  \n",
       "1   0.0       0.0   0.0  \n",
       "2   0.0       0.0   0.0  \n",
       "\n",
       "[3 rows x 5000 columns]"
      ]
     },
     "execution_count": 36,
     "metadata": {},
     "output_type": "execute_result"
    }
   ],
   "source": [
    "count_df = pd.DataFrame(X_train, columns=tfidf_v.get_feature_names())\n",
    "count_df.head(3)"
   ]
  },
  {
   "cell_type": "markdown",
   "metadata": {
    "colab_type": "text",
    "id": "OwA5_F5saawZ"
   },
   "source": [
    "### Passive Aggressive Classifier - Baseline"
   ]
  },
  {
   "cell_type": "code",
   "execution_count": 37,
   "metadata": {
    "colab": {},
    "colab_type": "code",
    "executionInfo": {
     "elapsed": 743,
     "status": "ok",
     "timestamp": 1595412318961,
     "user": {
      "displayName": "Keep Music Weird",
      "photoUrl": "https://lh3.googleusercontent.com/a-/AOh14Gi9IyYwcNDdJY9RrMvpMOuSI7FIspu0Dy8OyRZaVg=s64",
      "userId": "00063312648037822198"
     },
     "user_tz": -60
    },
    "id": "hwNEWGLQaawZ"
   },
   "outputs": [],
   "source": [
    "from sklearn.linear_model import PassiveAggressiveClassifier\n",
    "classifier = PassiveAggressiveClassifier(max_iter=1000)"
   ]
  },
  {
   "cell_type": "code",
   "execution_count": 38,
   "metadata": {
    "colab": {
     "base_uri": "https://localhost:8080/",
     "height": 34
    },
    "colab_type": "code",
    "executionInfo": {
     "elapsed": 2082,
     "status": "ok",
     "timestamp": 1595412323708,
     "user": {
      "displayName": "Keep Music Weird",
      "photoUrl": "https://lh3.googleusercontent.com/a-/AOh14Gi9IyYwcNDdJY9RrMvpMOuSI7FIspu0Dy8OyRZaVg=s64",
      "userId": "00063312648037822198"
     },
     "user_tz": -60
    },
    "id": "3yJhqJ3aaawd",
    "outputId": "cb9e138f-90d3-4e1f-f433-0f213c8e4a5f"
   },
   "outputs": [
    {
     "name": "stdout",
     "output_type": "stream",
     "text": [
      "accuracy:   0.918\n"
     ]
    }
   ],
   "source": [
    "from sklearn import metrics\n",
    "import numpy as np\n",
    "import itertools\n",
    "\n",
    "classifier.fit(X_train, y_train)\n",
    "\n",
    "pred = classifier.predict(X_test)\n",
    "\n",
    "score = metrics.accuracy_score(y_test, pred)\n",
    "print(\"accuracy:   %0.3f\" % score)"
   ]
  },
  {
   "cell_type": "code",
   "execution_count": 39,
   "metadata": {
    "colab": {},
    "colab_type": "code",
    "executionInfo": {
     "elapsed": 824,
     "status": "ok",
     "timestamp": 1595412328762,
     "user": {
      "displayName": "Keep Music Weird",
      "photoUrl": "https://lh3.googleusercontent.com/a-/AOh14Gi9IyYwcNDdJY9RrMvpMOuSI7FIspu0Dy8OyRZaVg=s64",
      "userId": "00063312648037822198"
     },
     "user_tz": -60
    },
    "id": "UqqEobQzaawh"
   },
   "outputs": [],
   "source": [
    "import matplotlib.pyplot as plt\n",
    "\n",
    "def plot_confusion_matrix(cm, classes,\n",
    "                          normalize=False,\n",
    "                          title='Confusion matrix',\n",
    "                          cmap=plt.cm.Blues):\n",
    "    \"\"\"\n",
    "    See full source and example: \n",
    "    http://scikit-learn.org/stable/auto_examples/model_selection/plot_confusion_matrix.html\n",
    "    \n",
    "    This function prints and plots the confusion matrix.\n",
    "    Normalization can be applied by setting `normalize=True`.\n",
    "    \"\"\"\n",
    "    plt.imshow(cm, interpolation='nearest', cmap=cmap)\n",
    "    plt.title(title)\n",
    "    plt.colorbar()\n",
    "    tick_marks = np.arange(len(classes))\n",
    "    plt.xticks(tick_marks, classes, rotation=45)\n",
    "    plt.yticks(tick_marks, classes)\n",
    "\n",
    "    if normalize:\n",
    "        cm = cm.astype('float') / cm.sum(axis=1)[:, np.newaxis]\n",
    "        print(\"Normalized confusion matrix\")\n",
    "    else:\n",
    "        print('Confusion matrix, without normalization')\n",
    "\n",
    "    thresh = cm.max() / 2.\n",
    "    for i, j in itertools.product(range(cm.shape[0]), range(cm.shape[1])):\n",
    "        plt.text(j, i, cm[i, j],\n",
    "                 horizontalalignment=\"center\",\n",
    "                 color=\"white\" if cm[i, j] > thresh else \"black\")\n",
    "\n",
    "    plt.tight_layout()\n",
    "    plt.ylabel('True label')\n",
    "    plt.xlabel('Predicted label')"
   ]
  },
  {
   "cell_type": "code",
   "execution_count": 40,
   "metadata": {
    "colab": {
     "base_uri": "https://localhost:8080/",
     "height": 328
    },
    "colab_type": "code",
    "executionInfo": {
     "elapsed": 894,
     "status": "ok",
     "timestamp": 1595412334383,
     "user": {
      "displayName": "Keep Music Weird",
      "photoUrl": "https://lh3.googleusercontent.com/a-/AOh14Gi9IyYwcNDdJY9RrMvpMOuSI7FIspu0Dy8OyRZaVg=s64",
      "userId": "00063312648037822198"
     },
     "user_tz": -60
    },
    "id": "VYoKWig_aawm",
    "outputId": "4ee10bee-1d53-4431-8c7d-19c96bf685e8"
   },
   "outputs": [
    {
     "name": "stdout",
     "output_type": "stream",
     "text": [
      "Confusion matrix, without normalization\n"
     ]
    },
    {
     "data": {
      "image/png": "[encoded data removed]",
      "text/plain": [
       "<Figure size 432x288 with 2 Axes>"
      ]
     },
     "metadata": {
      "needs_background": "light"
     },
     "output_type": "display_data"
    }
   ],
   "source": [
    "cm = metrics.confusion_matrix(y_test, pred)\n",
    "plot_confusion_matrix(cm, classes=['FAKE', 'REAL'])"
   ]
  },
  {
   "cell_type": "code",
   "execution_count": 41,
   "metadata": {
    "colab": {
     "base_uri": "https://localhost:8080/",
     "height": 34
    },
    "colab_type": "code",
    "executionInfo": {
     "elapsed": 884,
     "status": "ok",
     "timestamp": 1595412339305,
     "user": {
      "displayName": "Keep Music Weird",
      "photoUrl": "https://lh3.googleusercontent.com/a-/AOh14Gi9IyYwcNDdJY9RrMvpMOuSI7FIspu0Dy8OyRZaVg=s64",
      "userId": "00063312648037822198"
     },
     "user_tz": -60
    },
    "id": "0bXWMP46j1gb",
    "outputId": "695b2442-29f0-494e-8736-4091d2e1c6f6"
   },
   "outputs": [
    {
     "data": {
      "text/plain": [
       "array([1, 1, 1, ..., 1, 1, 1], dtype=int64)"
      ]
     },
     "execution_count": 41,
     "metadata": {},
     "output_type": "execute_result"
    }
   ],
   "source": [
    "classifier.predict(X_test)"
   ]
  },
  {
   "cell_type": "markdown",
   "metadata": {
    "colab_type": "text",
    "id": "OTNEvDg-3Qyb"
   },
   "source": [
    "### Preprocess and transform datapoint text (true['text'][16888]) and try to predict it based on the model"
   ]
  },
  {
   "cell_type": "code",
   "execution_count": 43,
   "metadata": {
    "colab": {
     "base_uri": "https://localhost:8080/",
     "height": 103
    },
    "colab_type": "code",
    "executionInfo": {
     "elapsed": 778,
     "status": "ok",
     "timestamp": 1595412348910,
     "user": {
      "displayName": "Keep Music Weird",
      "photoUrl": "https://lh3.googleusercontent.com/a-/AOh14Gi9IyYwcNDdJY9RrMvpMOuSI7FIspu0Dy8OyRZaVg=s64",
      "userId": "00063312648037822198"
     },
     "user_tz": -60
    },
    "id": "dFnssWQvlDi4",
    "outputId": "4259f7a5-3e4b-4ebf-92d4-96b21ab2809a"
   },
   "outputs": [
    {
     "data": {
      "text/plain": [
       "'delhi high court caution aft adventur order contraven earlier hc judgment'"
      ]
     },
     "execution_count": 43,
     "metadata": {},
     "output_type": "execute_result"
    }
   ],
   "source": [
    "review = re.sub('[^a-zA-Z]', ' ', true['Statement'][16888])\n",
    "review = review.lower()\n",
    "review = review.split()\n",
    "    \n",
    "review = [ps.stem(word) for word in review if not word in stopwords.words('english')]\n",
    "review = ' '.join(review)\n",
    "review"
   ]
  },
  {
   "cell_type": "code",
   "execution_count": 44,
   "metadata": {
    "colab": {},
    "colab_type": "code",
    "executionInfo": {
     "elapsed": 802,
     "status": "ok",
     "timestamp": 1595412355593,
     "user": {
      "displayName": "Keep Music Weird",
      "photoUrl": "https://lh3.googleusercontent.com/a-/AOh14Gi9IyYwcNDdJY9RrMvpMOuSI7FIspu0Dy8OyRZaVg=s64",
      "userId": "00063312648037822198"
     },
     "user_tz": -60
    },
    "id": "8iV2HnpQJbws"
   },
   "outputs": [],
   "source": [
    "val = tfidf_v.transform([review]).toarray()"
   ]
  },
  {
   "cell_type": "code",
   "execution_count": 45,
   "metadata": {
    "colab": {
     "base_uri": "https://localhost:8080/",
     "height": 163
    },
    "colab_type": "code",
    "executionInfo": {
     "elapsed": 1247,
     "status": "ok",
     "timestamp": 1595412359672,
     "user": {
      "displayName": "Keep Music Weird",
      "photoUrl": "https://lh3.googleusercontent.com/a-/AOh14Gi9IyYwcNDdJY9RrMvpMOuSI7FIspu0Dy8OyRZaVg=s64",
      "userId": "00063312648037822198"
     },
     "user_tz": -60
    },
    "id": "f62tMmybtiu4",
    "outputId": "7e6ed133-060c-4bd6-a031-1647aad533c1"
   },
   "outputs": [
    {
     "data": {
      "text/html": [
       "<div>\n",
       "<style scoped>\n",
       "    .dataframe tbody tr th:only-of-type {\n",
       "        vertical-align: middle;\n",
       "    }\n",
       "\n",
       "    .dataframe tbody tr th {\n",
       "        vertical-align: top;\n",
       "    }\n",
       "\n",
       "    .dataframe thead th {\n",
       "        text-align: right;\n",
       "    }\n",
       "</style>\n",
       "<table border=\"1\" class=\"dataframe\">\n",
       "  <thead>\n",
       "    <tr style=\"text-align: right;\">\n",
       "      <th></th>\n",
       "      <th>aadhaar</th>\n",
       "      <th>aaditya</th>\n",
       "      <th>aaj</th>\n",
       "      <th>aaj tak</th>\n",
       "      <th>aamir</th>\n",
       "      <th>aamir khan</th>\n",
       "      <th>aap</th>\n",
       "      <th>aap leader</th>\n",
       "      <th>aap mla</th>\n",
       "      <th>aarogya</th>\n",
       "      <th>...</th>\n",
       "      <th>youtub</th>\n",
       "      <th>yr</th>\n",
       "      <th>yr old</th>\n",
       "      <th>ysrcp</th>\n",
       "      <th>zealand</th>\n",
       "      <th>zee</th>\n",
       "      <th>zee news</th>\n",
       "      <th>zero</th>\n",
       "      <th>zindabad</th>\n",
       "      <th>zone</th>\n",
       "    </tr>\n",
       "  </thead>\n",
       "  <tbody>\n",
       "    <tr>\n",
       "      <th>0</th>\n",
       "      <td>0.0</td>\n",
       "      <td>0.0</td>\n",
       "      <td>0.0</td>\n",
       "      <td>0.0</td>\n",
       "      <td>0.0</td>\n",
       "      <td>0.0</td>\n",
       "      <td>0.0</td>\n",
       "      <td>0.0</td>\n",
       "      <td>0.0</td>\n",
       "      <td>0.0</td>\n",
       "      <td>...</td>\n",
       "      <td>0.0</td>\n",
       "      <td>0.0</td>\n",
       "      <td>0.0</td>\n",
       "      <td>0.0</td>\n",
       "      <td>0.0</td>\n",
       "      <td>0.0</td>\n",
       "      <td>0.0</td>\n",
       "      <td>0.0</td>\n",
       "      <td>0.0</td>\n",
       "      <td>0.0</td>\n",
       "    </tr>\n",
       "  </tbody>\n",
       "</table>\n",
       "<p>1 rows × 5000 columns</p>\n",
       "</div>"
      ],
      "text/plain": [
       "   aadhaar  aaditya  aaj  aaj tak  aamir  aamir khan  aap  aap leader  \\\n",
       "0      0.0      0.0  0.0      0.0    0.0         0.0  0.0         0.0   \n",
       "\n",
       "   aap mla  aarogya  ...  youtub   yr  yr old  ysrcp  zealand  zee  zee news  \\\n",
       "0      0.0      0.0  ...     0.0  0.0     0.0    0.0      0.0  0.0       0.0   \n",
       "\n",
       "   zero  zindabad  zone  \n",
       "0   0.0       0.0   0.0  \n",
       "\n",
       "[1 rows x 5000 columns]"
      ]
     },
     "execution_count": 45,
     "metadata": {},
     "output_type": "execute_result"
    }
   ],
   "source": [
    "pd.DataFrame(val, columns=tfidf_v.get_feature_names())"
   ]
  },
  {
   "cell_type": "code",
   "execution_count": 46,
   "metadata": {
    "colab": {
     "base_uri": "https://localhost:8080/",
     "height": 34
    },
    "colab_type": "code",
    "executionInfo": {
     "elapsed": 959,
     "status": "ok",
     "timestamp": 1595412364003,
     "user": {
      "displayName": "Keep Music Weird",
      "photoUrl": "https://lh3.googleusercontent.com/a-/AOh14Gi9IyYwcNDdJY9RrMvpMOuSI7FIspu0Dy8OyRZaVg=s64",
      "userId": "00063312648037822198"
     },
     "user_tz": -60
    },
    "id": "vRsnD100WL-K",
    "outputId": "efe571c2-f180-4a0e-bf65-d8eeb7a6addf"
   },
   "outputs": [
    {
     "data": {
      "text/plain": [
       "array([1], dtype=int64)"
      ]
     },
     "execution_count": 46,
     "metadata": {},
     "output_type": "execute_result"
    }
   ],
   "source": [
    "classifier.predict(val)"
   ]
  },
  {
   "cell_type": "markdown",
   "metadata": {
    "colab_type": "text",
    "id": "jMdcb59e2JKd"
   },
   "source": [
    "### Saving model and TFIDF Vectorizer"
   ]
  },
  {
   "cell_type": "code",
   "execution_count": 49,
   "metadata": {
    "colab": {
     "base_uri": "https://localhost:8080/",
     "height": 71
    },
    "colab_type": "code",
    "executionInfo": {
     "elapsed": 787,
     "status": "ok",
     "timestamp": 1595412388708,
     "user": {
      "displayName": "Keep Music Weird",
      "photoUrl": "https://lh3.googleusercontent.com/a-/AOh14Gi9IyYwcNDdJY9RrMvpMOuSI7FIspu0Dy8OyRZaVg=s64",
      "userId": "00063312648037822198"
     },
     "user_tz": -60
    },
    "id": "DbuV0rQyrAGt",
    "outputId": "06d5d761-9677-4a7a-f38d-3b391556453e"
   },
   "outputs": [],
   "source": [
    "import joblib"
   ]
  },
  {
   "cell_type": "code",
   "execution_count": 50,
   "metadata": {
    "colab": {
     "base_uri": "https://localhost:8080/",
     "height": 34
    },
    "colab_type": "code",
    "executionInfo": {
     "elapsed": 825,
     "status": "ok",
     "timestamp": 1595412392044,
     "user": {
      "displayName": "Keep Music Weird",
      "photoUrl": "https://lh3.googleusercontent.com/a-/AOh14Gi9IyYwcNDdJY9RrMvpMOuSI7FIspu0Dy8OyRZaVg=s64",
      "userId": "00063312648037822198"
     },
     "user_tz": -60
    },
    "id": "QxXwq6SktIw7",
    "outputId": "6edef197-a5c1-47b5-e86c-535fc7d6a254"
   },
   "outputs": [
    {
     "data": {
      "text/plain": [
       "['model.pkl']"
      ]
     },
     "execution_count": 50,
     "metadata": {},
     "output_type": "execute_result"
    }
   ],
   "source": [
    "joblib.dump(classifier, 'model.pkl')"
   ]
  },
  {
   "cell_type": "code",
   "execution_count": 52,
   "metadata": {
    "colab": {
     "base_uri": "https://localhost:8080/",
     "height": 34
    },
    "colab_type": "code",
    "executionInfo": {
     "elapsed": 15781,
     "status": "ok",
     "timestamp": 1595412410758,
     "user": {
      "displayName": "Keep Music Weird",
      "photoUrl": "https://lh3.googleusercontent.com/a-/AOh14Gi9IyYwcNDdJY9RrMvpMOuSI7FIspu0Dy8OyRZaVg=s64",
      "userId": "00063312648037822198"
     },
     "user_tz": -60
    },
    "id": "KkOTpucwaoO2",
    "outputId": "ab62f402-6334-4ab1-ad98-7711e1e9d2aa"
   },
   "outputs": [
    {
     "data": {
      "text/plain": [
       "['tfidfvect.pkl']"
      ]
     },
     "execution_count": 52,
     "metadata": {},
     "output_type": "execute_result"
    }
   ],
   "source": [
    "joblib.dump(tfidf_v, 'tfidfvect.pkl')"
   ]
  },
  {
   "cell_type": "markdown",
   "metadata": {
    "colab_type": "text",
    "id": "KMCnuTEM27Rh"
   },
   "source": [
    "### Load model and vectorizer and predict on previous preprocessed datapoint"
   ]
  },
  {
   "cell_type": "code",
   "execution_count": 53,
   "metadata": {
    "colab": {},
    "colab_type": "code",
    "executionInfo": {
     "elapsed": 855,
     "status": "ok",
     "timestamp": 1595412415421,
     "user": {
      "displayName": "Keep Music Weird",
      "photoUrl": "https://lh3.googleusercontent.com/a-/AOh14Gi9IyYwcNDdJY9RrMvpMOuSI7FIspu0Dy8OyRZaVg=s64",
      "userId": "00063312648037822198"
     },
     "user_tz": -60
    },
    "id": "Fx_NwuC4tdpa"
   },
   "outputs": [],
   "source": [
    "joblib_model = joblib.load('model.pkl')"
   ]
  },
  {
   "cell_type": "code",
   "execution_count": 54,
   "metadata": {
    "colab": {},
    "colab_type": "code",
    "executionInfo": {
     "elapsed": 8556,
     "status": "ok",
     "timestamp": 1595412425876,
     "user": {
      "displayName": "Keep Music Weird",
      "photoUrl": "https://lh3.googleusercontent.com/a-/AOh14Gi9IyYwcNDdJY9RrMvpMOuSI7FIspu0Dy8OyRZaVg=s64",
      "userId": "00063312648037822198"
     },
     "user_tz": -60
    },
    "id": "8OlJqPqta1A3"
   },
   "outputs": [],
   "source": [
    "joblib_tfidfvect = joblib.load('tfidfvect.pkl')"
   ]
  },
  {
   "cell_type": "code",
   "execution_count": 55,
   "metadata": {
    "colab": {},
    "colab_type": "code",
    "executionInfo": {
     "elapsed": 4709,
     "status": "ok",
     "timestamp": 1595412438920,
     "user": {
      "displayName": "Keep Music Weird",
      "photoUrl": "https://lh3.googleusercontent.com/a-/AOh14Gi9IyYwcNDdJY9RrMvpMOuSI7FIspu0Dy8OyRZaVg=s64",
      "userId": "00063312648037822198"
     },
     "user_tz": -60
    },
    "id": "Uvii_nCgbBdP"
   },
   "outputs": [],
   "source": [
    "val_pkl = joblib_tfidfvect.transform([review]).toarray()"
   ]
  },
  {
   "cell_type": "code",
   "execution_count": 56,
   "metadata": {
    "colab": {
     "base_uri": "https://localhost:8080/",
     "height": 34
    },
    "colab_type": "code",
    "executionInfo": {
     "elapsed": 761,
     "status": "ok",
     "timestamp": 1595412442441,
     "user": {
      "displayName": "Keep Music Weird",
      "photoUrl": "https://lh3.googleusercontent.com/a-/AOh14Gi9IyYwcNDdJY9RrMvpMOuSI7FIspu0Dy8OyRZaVg=s64",
      "userId": "00063312648037822198"
     },
     "user_tz": -60
    },
    "id": "0ZX4RyA-bLUK",
    "outputId": "fdc2660f-dee6-42b6-f18f-013fea079f48"
   },
   "outputs": [
    {
     "data": {
      "text/plain": [
       "array([1], dtype=int64)"
      ]
     },
     "execution_count": 56,
     "metadata": {},
     "output_type": "execute_result"
    }
   ],
   "source": [
    "joblib_model.predict(val_pkl)"
   ]
  },
  {
   "cell_type": "markdown",
   "metadata": {
    "colab_type": "text",
    "id": "FRN58Kvh2lUP"
   },
   "source": [
    "### Save some datapoints for text random generation"
   ]
  },
  {
   "cell_type": "code",
   "execution_count": 57,
   "metadata": {
    "colab": {},
    "colab_type": "code",
    "executionInfo": {
     "elapsed": 835,
     "status": "ok",
     "timestamp": 1595412453739,
     "user": {
      "displayName": "Keep Music Weird",
      "photoUrl": "https://lh3.googleusercontent.com/a-/AOh14Gi9IyYwcNDdJY9RrMvpMOuSI7FIspu0Dy8OyRZaVg=s64",
      "userId": "00063312648037822198"
     },
     "user_tz": -60
    },
    "id": "w-91d_1T8ATz"
   },
   "outputs": [],
   "source": [
    "frames_2 = [true.loc[0:10][:], fake.loc[0:10][:]]\n",
    "df_2 = pd.concat(frames_2)"
   ]
  },
  {
   "cell_type": "code",
   "execution_count": 58,
   "metadata": {
    "colab": {},
    "colab_type": "code",
    "executionInfo": {
     "elapsed": 1183,
     "status": "ok",
     "timestamp": 1595412457184,
     "user": {
      "displayName": "Keep Music Weird",
      "photoUrl": "https://lh3.googleusercontent.com/a-/AOh14Gi9IyYwcNDdJY9RrMvpMOuSI7FIspu0Dy8OyRZaVg=s64",
      "userId": "00063312648037822198"
     },
     "user_tz": -60
    },
    "id": "rEbsSCxK8L92"
   },
   "outputs": [],
   "source": [
    "df_2.to_csv('random_dataset.csv', index=False)"
   ]
  },
  {
   "cell_type": "code",
   "execution_count": null,
   "metadata": {},
   "outputs": [],
   "source": []
  }
 ],
 "metadata": {
  "colab": {
   "name": "Fake News Prediction 1.ipynb",
   "provenance": []
  },
  "kernelspec": {
   "display_name": "Python 3 (ipykernel)",
   "language": "python",
   "name": "python3"
  },
  "language_info": {
   "codemirror_mode": {
    "name": "ipython",
    "version": 3
   },
   "file_extension": ".py",
   "mimetype": "text/x-python",
   "name": "python",
   "nbconvert_exporter": "python",
   "pygments_lexer": "ipython3",
   "version": "3.9.7"
  }
 },
 "nbformat": 4,
 "nbformat_minor": 1
}
